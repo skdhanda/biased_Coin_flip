{
 "cells": [
  {
   "cell_type": "code",
   "execution_count": 2,
   "metadata": {},
   "outputs": [],
   "source": [
    "import random"
   ]
  },
  {
   "cell_type": "code",
   "execution_count": 3,
   "metadata": {},
   "outputs": [],
   "source": [
    "def biasedflip(trials,prob,runs=10):\n",
    "  heads=0\n",
    "  tails=0\n",
    "  print(\"Iter\\tHeads\\tTails\")\n",
    "  for r in range(0,runs):\n",
    "    i=0\n",
    "    nhead=0\n",
    "    ntail=0\n",
    "    while i <trials:\n",
    "      if random.randint(0,100) <prob:\n",
    "        heads+=1\n",
    "        nhead+=1\n",
    "      else:\n",
    "        tails+=1\n",
    "        ntail+=1\n",
    "      i+=1\n",
    "    r+=1\n",
    "    print(\"{0}\\t{1}\\t{2}\").format(r,nhead,ntail)\n",
    "  print(\"sum of total iternations\\n-\\t-\\t-\\t\")\n",
    "  print(\"{0}\\t{1}\\t{2}\").format(r,heads,tails)\n",
    "  return heads,tails"
   ]
  },
  {
   "cell_type": "code",
   "execution_count": 4,
   "metadata": {},
   "outputs": [],
   "source": [
    "trials=20"
   ]
  },
  {
   "cell_type": "code",
   "execution_count": 5,
   "metadata": {},
   "outputs": [
    {
     "name": "stdout",
     "output_type": "stream",
     "text": [
      "20\n"
     ]
    }
   ],
   "source": [
    "print(trials)"
   ]
  },
  {
   "cell_type": "code",
   "execution_count": 6,
   "metadata": {},
   "outputs": [],
   "source": [
    "runs=10"
   ]
  },
  {
   "cell_type": "code",
   "execution_count": 7,
   "metadata": {},
   "outputs": [
    {
     "name": "stdout",
     "output_type": "stream",
     "text": [
      "10\n"
     ]
    }
   ],
   "source": [
    "print(runs)"
   ]
  },
  {
   "cell_type": "code",
   "execution_count": 8,
   "metadata": {},
   "outputs": [],
   "source": [
    "prob=25 #in the range of 1-100"
   ]
  },
  {
   "cell_type": "code",
   "execution_count": 9,
   "metadata": {},
   "outputs": [
    {
     "name": "stdout",
     "output_type": "stream",
     "text": [
      "25\n"
     ]
    }
   ],
   "source": [
    "print(prob)"
   ]
  },
  {
   "cell_type": "code",
   "execution_count": 10,
   "metadata": {},
   "outputs": [
    {
     "name": "stdout",
     "output_type": "stream",
     "text": [
      "Iter\tHeads\tTails\n",
      "1\t4\t16\n",
      "2\t2\t18\n",
      "3\t3\t17\n",
      "4\t5\t15\n",
      "5\t3\t17\n",
      "6\t6\t14\n",
      "7\t7\t13\n",
      "8\t8\t12\n",
      "9\t5\t15\n",
      "10\t3\t17\n",
      "sum of total iternations\n",
      "-\t-\t-\t\n",
      "10\t46\t154\n"
     ]
    }
   ],
   "source": [
    "total_heads,total_tails=biasedflip(trials,prob,runs)"
   ]
  },
  {
   "cell_type": "code",
   "execution_count": 11,
   "metadata": {},
   "outputs": [],
   "source": [
    "obs_prob=round(total_heads*100/float(total_heads+total_tails),2)"
   ]
  },
  {
   "cell_type": "code",
   "execution_count": 12,
   "metadata": {},
   "outputs": [
    {
     "name": "stdout",
     "output_type": "stream",
     "text": [
      "Expected probabality = 25\n",
      "Observed Probability 46/(46+154) = 23.0 \n"
     ]
    }
   ],
   "source": [
    "print(\"Expected probabality = {0}\\nObserved Probability {1}/({1}+{2}) = {3} \").format(prob,total_heads,total_tails,obs_prob)"
   ]
  },
  {
   "cell_type": "code",
   "execution_count": null,
   "metadata": {},
   "outputs": [],
   "source": []
  }
 ],
 "metadata": {
  "kernelspec": {
   "display_name": "Python 2",
   "language": "python",
   "name": "python2"
  },
  "language_info": {
   "codemirror_mode": {
    "name": "ipython",
    "version": 2
   },
   "file_extension": ".py",
   "mimetype": "text/x-python",
   "name": "python",
   "nbconvert_exporter": "python",
   "pygments_lexer": "ipython2",
   "version": "2.7.16"
  }
 },
 "nbformat": 4,
 "nbformat_minor": 2
}
